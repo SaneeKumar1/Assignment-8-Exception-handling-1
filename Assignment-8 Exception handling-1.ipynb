{
 "cells": [
  {
   "cell_type": "markdown",
   "id": "b0a2a3ce-fa8f-4c80-9f09-ecaf3cfb0266",
   "metadata": {},
   "source": [
    "#### Q1. What is an Exception in Python? Write the difference between Exceptions and Syntax errors."
   ]
  },
  {
   "cell_type": "markdown",
   "id": "5da31907-0c3f-4063-93c3-52ee5c908499",
   "metadata": {},
   "source": [
    "Ans:- Exception: An error occurring during runtime, disrupting normal program flow.\n",
    "\n",
    "Difference:\n",
    "\n",
    "    Exceptions: Runtime errors (e.g., division by zero).\n",
    "    \n",
    "    Syntax Errors: Errors in code syntax, detected at compile-time (e.g., missing colon)."
   ]
  },
  {
   "cell_type": "markdown",
   "id": "eefc96b1-54c2-42ef-becc-b535dc7dd197",
   "metadata": {},
   "source": [
    "#### Q2. What happens when an exception is not handled? Explain with an example."
   ]
  },
  {
   "cell_type": "markdown",
   "id": "4b493fd3-f132-48c9-8d19-237bc3927bc9",
   "metadata": {},
   "source": [
    "Ans:- Uncaught Exception: Program terminates and shows an error traceback."
   ]
  },
  {
   "cell_type": "code",
   "execution_count": 1,
   "id": "7ce6b0ce-de85-4963-911b-7b55f0c1ac6a",
   "metadata": {},
   "outputs": [
    {
     "ename": "ZeroDivisionError",
     "evalue": "division by zero",
     "output_type": "error",
     "traceback": [
      "\u001b[0;31m---------------------------------------------------------------------------\u001b[0m",
      "\u001b[0;31mZeroDivisionError\u001b[0m                         Traceback (most recent call last)",
      "Cell \u001b[0;32mIn[1], line 5\u001b[0m\n\u001b[1;32m      2\u001b[0m \u001b[38;5;28;01mdef\u001b[39;00m \u001b[38;5;21mdivide\u001b[39m(x, y):\n\u001b[1;32m      3\u001b[0m     \u001b[38;5;28;01mreturn\u001b[39;00m x \u001b[38;5;241m/\u001b[39m y\n\u001b[0;32m----> 5\u001b[0m \u001b[38;5;28mprint\u001b[39m(\u001b[43mdivide\u001b[49m\u001b[43m(\u001b[49m\u001b[38;5;241;43m10\u001b[39;49m\u001b[43m,\u001b[49m\u001b[43m \u001b[49m\u001b[38;5;241;43m0\u001b[39;49m\u001b[43m)\u001b[49m)  \u001b[38;5;66;03m# ZeroDivisionError: division by zero\u001b[39;00m\n",
      "Cell \u001b[0;32mIn[1], line 3\u001b[0m, in \u001b[0;36mdivide\u001b[0;34m(x, y)\u001b[0m\n\u001b[1;32m      2\u001b[0m \u001b[38;5;28;01mdef\u001b[39;00m \u001b[38;5;21mdivide\u001b[39m(x, y):\n\u001b[0;32m----> 3\u001b[0m     \u001b[38;5;28;01mreturn\u001b[39;00m \u001b[43mx\u001b[49m\u001b[43m \u001b[49m\u001b[38;5;241;43m/\u001b[39;49m\u001b[43m \u001b[49m\u001b[43my\u001b[49m\n",
      "\u001b[0;31mZeroDivisionError\u001b[0m: division by zero"
     ]
    }
   ],
   "source": [
    "# Example\n",
    "def divide(x, y):\n",
    "    return x / y\n",
    "\n",
    "print(divide(10, 0))  # ZeroDivisionError: division by zero"
   ]
  },
  {
   "cell_type": "markdown",
   "id": "4645f224-282f-474a-8444-07a497d6d448",
   "metadata": {},
   "source": [
    "#### Q3. Which Python statements are used to catch and handle exceptions? Explain with an example."
   ]
  },
  {
   "cell_type": "markdown",
   "id": "876c4d22-6f39-49af-857a-88c9176e8783",
   "metadata": {},
   "source": [
    "Ans:- Statements: 'try' and 'except'."
   ]
  },
  {
   "cell_type": "code",
   "execution_count": 5,
   "id": "914b7761-5220-452e-8a08-82e19bf0082e",
   "metadata": {},
   "outputs": [
    {
     "name": "stdout",
     "output_type": "stream",
     "text": [
      "Cannot divide by zero!\n"
     ]
    }
   ],
   "source": [
    "# Example\n",
    "try:\n",
    "    result = 10 / 0\n",
    "except ZeroDivisionError:\n",
    "    print(\"Cannot divide by zero!\")\n"
   ]
  },
  {
   "cell_type": "markdown",
   "id": "bf7374e3-1375-44a2-88d9-be231478aa82",
   "metadata": {},
   "source": [
    "#### Q4. Explain with an example:\n",
    "\n",
    "a. try and else\n",
    "\n",
    "b. finally\n",
    "\n",
    "c. raise"
   ]
  },
  {
   "cell_type": "code",
   "execution_count": 7,
   "id": "73d9ca4f-ade2-45e5-8dae-3697811de1c1",
   "metadata": {},
   "outputs": [
    {
     "name": "stdout",
     "output_type": "stream",
     "text": [
      "Division successful: 5.0\n"
     ]
    }
   ],
   "source": [
    "# a. try and else\n",
    "try:\n",
    "    result = 10 / 2\n",
    "except ZeroDivisionError:\n",
    "    print(\"Cannot divide by zero!\")\n",
    "else:\n",
    "    print(\"Division successful:\", result)"
   ]
  },
  {
   "cell_type": "code",
   "execution_count": 8,
   "id": "9787b561-d2e3-40fb-acb2-64f28b8a5c5b",
   "metadata": {},
   "outputs": [
    {
     "name": "stdout",
     "output_type": "stream",
     "text": [
      "Cannot divide by zero!\n",
      "This will always execute\n"
     ]
    }
   ],
   "source": [
    "# b. finally\n",
    "try:\n",
    "    result = 10 / 0\n",
    "except ZeroDivisionError:\n",
    "    print(\"Cannot divide by zero!\")\n",
    "finally:\n",
    "    print(\"This will always execute\")"
   ]
  },
  {
   "cell_type": "code",
   "execution_count": 9,
   "id": "99da0c75-b8b8-4f0b-997d-3d421977041d",
   "metadata": {},
   "outputs": [
    {
     "name": "stdout",
     "output_type": "stream",
     "text": [
      "Negative value is not allowed\n"
     ]
    }
   ],
   "source": [
    "# c. raise\n",
    "def check_value(x):\n",
    "    if x < 0:\n",
    "        raise ValueError(\"Negative value is not allowed\")\n",
    "    return x\n",
    "\n",
    "try:\n",
    "    print(check_value(-5))\n",
    "except ValueError as e:\n",
    "    print(e)"
   ]
  },
  {
   "cell_type": "markdown",
   "id": "8e97f0b3-6844-4010-a7b8-90bfbb4b86fc",
   "metadata": {},
   "source": [
    "#### Q5. What are Custom Exceptions in Python? Why do we need Custom Exceptions? Explain with an example."
   ]
  },
  {
   "cell_type": "markdown",
   "id": "3a6ae306-7e42-4390-823e-7cc6deca0ea2",
   "metadata": {},
   "source": [
    "Ans:- Custom Exceptions: User-defined exceptions for specific error situations."
   ]
  },
  {
   "cell_type": "code",
   "execution_count": 10,
   "id": "3efd75ff-5557-48e7-9b4f-0bdc9e0f2601",
   "metadata": {},
   "outputs": [
    {
     "name": "stdout",
     "output_type": "stream",
     "text": [
      "Negative value is not allowed\n"
     ]
    }
   ],
   "source": [
    "# Example\n",
    "class NegativeValueError(Exception):\n",
    "    pass\n",
    "\n",
    "def check_value(x):\n",
    "    if x < 0:\n",
    "        raise NegativeValueError(\"Negative value is not allowed\")\n",
    "    return x\n",
    "\n",
    "try:\n",
    "    print(check_value(-5))\n",
    "except NegativeValueError as e:\n",
    "    print(e)"
   ]
  },
  {
   "cell_type": "markdown",
   "id": "a8529d87-7658-46a5-8f32-ded68b5c4e39",
   "metadata": {},
   "source": [
    "#### Q6. Create a custom exception class. Use this class to handle an exception."
   ]
  },
  {
   "cell_type": "code",
   "execution_count": 11,
   "id": "1fe3fa61-1141-49bd-8187-599d6f810500",
   "metadata": {},
   "outputs": [
    {
     "name": "stdout",
     "output_type": "stream",
     "text": [
      "Error: Age is too low. Age provided: 15\n"
     ]
    }
   ],
   "source": [
    "class AgeTooLowError(Exception):\n",
    "    def __init__(self, age, message=\"Age is too low\"):\n",
    "        self.age = age\n",
    "        self.message = message\n",
    "        super().__init__(self.message)\n",
    "\n",
    "def check_age(age):\n",
    "    if age < 18:\n",
    "        raise AgeTooLowError(age)\n",
    "    return \"Age is acceptable\"\n",
    "\n",
    "try:\n",
    "    print(check_age(15))\n",
    "except AgeTooLowError as e:\n",
    "    print(f\"Error: {e.message}. Age provided: {e.age}\")\n"
   ]
  },
  {
   "cell_type": "code",
   "execution_count": null,
   "id": "edfcad76-71f3-4319-82db-bba63345132a",
   "metadata": {},
   "outputs": [],
   "source": []
  }
 ],
 "metadata": {
  "kernelspec": {
   "display_name": "Python 3 (ipykernel)",
   "language": "python",
   "name": "python3"
  },
  "language_info": {
   "codemirror_mode": {
    "name": "ipython",
    "version": 3
   },
   "file_extension": ".py",
   "mimetype": "text/x-python",
   "name": "python",
   "nbconvert_exporter": "python",
   "pygments_lexer": "ipython3",
   "version": "3.10.8"
  }
 },
 "nbformat": 4,
 "nbformat_minor": 5
}
